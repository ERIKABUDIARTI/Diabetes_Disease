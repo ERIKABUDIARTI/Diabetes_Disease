{
  "nbformat": 4,
  "nbformat_minor": 0,
  "metadata": {
    "colab": {
      "provenance": []
    },
    "kernelspec": {
      "name": "python3",
      "display_name": "Python 3"
    },
    "language_info": {
      "name": "python"
    }
  },
  "cells": [
    {
      "cell_type": "code",
      "execution_count": 1,
      "metadata": {
        "colab": {
          "base_uri": "https://localhost:8080/"
        },
        "id": "FBhnrBsZ482h",
        "outputId": "0fb4d072-61f4-4f92-a736-84c8de8f5c0f"
      },
      "outputs": [
        {
          "output_type": "stream",
          "name": "stdout",
          "text": [
            "Requirement already satisfied: scikit-learn in /usr/local/lib/python3.10/dist-packages (1.2.2)\n",
            "Collecting scikit-learn\n",
            "  Downloading scikit_learn-1.3.0-cp310-cp310-manylinux_2_17_x86_64.manylinux2014_x86_64.whl (10.8 MB)\n",
            "\u001b[2K     \u001b[90m━━━━━━━━━━━━━━━━━━━━━━━━━━━━━━━━━━━━━━━━\u001b[0m \u001b[32m10.8/10.8 MB\u001b[0m \u001b[31m17.0 MB/s\u001b[0m eta \u001b[36m0:00:00\u001b[0m\n",
            "\u001b[?25hRequirement already satisfied: numpy>=1.17.3 in /usr/local/lib/python3.10/dist-packages (from scikit-learn) (1.23.5)\n",
            "Requirement already satisfied: scipy>=1.5.0 in /usr/local/lib/python3.10/dist-packages (from scikit-learn) (1.10.1)\n",
            "Requirement already satisfied: joblib>=1.1.1 in /usr/local/lib/python3.10/dist-packages (from scikit-learn) (1.3.2)\n",
            "Requirement already satisfied: threadpoolctl>=2.0.0 in /usr/local/lib/python3.10/dist-packages (from scikit-learn) (3.2.0)\n",
            "Installing collected packages: scikit-learn\n",
            "  Attempting uninstall: scikit-learn\n",
            "    Found existing installation: scikit-learn 1.2.2\n",
            "    Uninstalling scikit-learn-1.2.2:\n",
            "      Successfully uninstalled scikit-learn-1.2.2\n",
            "Successfully installed scikit-learn-1.3.0\n"
          ]
        }
      ],
      "source": [
        "!pip install --upgrade scikit-learn"
      ]
    },
    {
      "cell_type": "code",
      "source": [
        "import numpy as np\n",
        "import pandas as pd\n",
        "import math\n",
        "import random\n",
        "import seaborn as sns\n",
        "from scipy.stats import pearsonr, jarque_bera\n",
        "import matplotlib.pyplot as plt\n",
        "from sklearn.model_selection import train_test_split\n",
        "from sklearn.preprocessing import StandardScaler\n",
        "\n",
        "from sklearn.linear_model import LogisticRegression\n",
        "from sklearn.tree import DecisionTreeClassifier\n",
        "from sklearn.ensemble import RandomForestClassifier\n",
        "from sklearn.neighbors import KNeighborsClassifier\n",
        "from sklearn.svm import SVC\n",
        "from sklearn.naive_bayes import GaussianNB\n",
        "from xgboost import XGBClassifier\n",
        "from sklearn.neural_network import MLPClassifier\n",
        "from sklearn.metrics import accuracy_score, confusion_matrix, precision_score, recall_score, roc_curve, roc_auc_score, classification_report, f1_score\n",
        "from sklearn.model_selection import cross_val_score\n",
        "from sklearn.model_selection import GridSearchCV\n",
        "\n",
        "import warnings\n",
        "warnings.filterwarnings(\"ignore\")\n"
      ],
      "metadata": {
        "id": "TA_Mn8aE6En1"
      },
      "execution_count": 2,
      "outputs": []
    },
    {
      "cell_type": "markdown",
      "source": [
        "# **Modelling**"
      ],
      "metadata": {
        "id": "AgKUOg3V-lVg"
      }
    },
    {
      "cell_type": "code",
      "source": [
        "df = pd.read_csv('/content/diabetes_clean.csv')\n",
        "\n",
        "print(df.head())\n",
        "print(df.columns)"
      ],
      "metadata": {
        "colab": {
          "base_uri": "https://localhost:8080/"
        },
        "id": "OPZ3EJv5AFbT",
        "outputId": "16115392-d1c1-47ca-bc96-ad31d033eb26"
      },
      "execution_count": 3,
      "outputs": [
        {
          "output_type": "stream",
          "name": "stdout",
          "text": [
            "   Unnamed: 0  Glucose   BMI  Age  Pregnancies  DiabetesPedigreeFunction  \\\n",
            "0           0      148  33.6   50            6                     0.627   \n",
            "1           1       85  26.6   31            1                     0.351   \n",
            "2           2      183  23.3   32            8                     0.672   \n",
            "3           3       89  28.1   21            1                     0.167   \n",
            "4           5      116  25.6   30            5                     0.201   \n",
            "\n",
            "   Insulin  Outcome  \n",
            "0        0        1  \n",
            "1        0        0  \n",
            "2        0        1  \n",
            "3       94        0  \n",
            "4        0        0  \n",
            "Index(['Unnamed: 0', 'Glucose', 'BMI', 'Age', 'Pregnancies',\n",
            "       'DiabetesPedigreeFunction', 'Insulin', 'Outcome'],\n",
            "      dtype='object')\n"
          ]
        }
      ]
    },
    {
      "cell_type": "code",
      "source": [
        "# Define X and y\n",
        "X = df.drop(columns=['Outcome', 'Unnamed: 0'], axis=1)\n",
        "y = df.Outcome\n"
      ],
      "metadata": {
        "id": "UMTDtUrJB96y"
      },
      "execution_count": 4,
      "outputs": []
    },
    {
      "cell_type": "code",
      "source": [
        "X.head()"
      ],
      "metadata": {
        "colab": {
          "base_uri": "https://localhost:8080/",
          "height": 206
        },
        "id": "_Dqln6tSCKWp",
        "outputId": "e4ad3226-4c17-4916-d1c9-574e04aabae3"
      },
      "execution_count": 5,
      "outputs": [
        {
          "output_type": "execute_result",
          "data": {
            "text/plain": [
              "   Glucose   BMI  Age  Pregnancies  DiabetesPedigreeFunction  Insulin\n",
              "0      148  33.6   50            6                     0.627        0\n",
              "1       85  26.6   31            1                     0.351        0\n",
              "2      183  23.3   32            8                     0.672        0\n",
              "3       89  28.1   21            1                     0.167       94\n",
              "4      116  25.6   30            5                     0.201        0"
            ],
            "text/html": [
              "\n",
              "  <div id=\"df-db620aeb-2ac5-47f6-8bdd-5036b32291f5\" class=\"colab-df-container\">\n",
              "    <div>\n",
              "<style scoped>\n",
              "    .dataframe tbody tr th:only-of-type {\n",
              "        vertical-align: middle;\n",
              "    }\n",
              "\n",
              "    .dataframe tbody tr th {\n",
              "        vertical-align: top;\n",
              "    }\n",
              "\n",
              "    .dataframe thead th {\n",
              "        text-align: right;\n",
              "    }\n",
              "</style>\n",
              "<table border=\"1\" class=\"dataframe\">\n",
              "  <thead>\n",
              "    <tr style=\"text-align: right;\">\n",
              "      <th></th>\n",
              "      <th>Glucose</th>\n",
              "      <th>BMI</th>\n",
              "      <th>Age</th>\n",
              "      <th>Pregnancies</th>\n",
              "      <th>DiabetesPedigreeFunction</th>\n",
              "      <th>Insulin</th>\n",
              "    </tr>\n",
              "  </thead>\n",
              "  <tbody>\n",
              "    <tr>\n",
              "      <th>0</th>\n",
              "      <td>148</td>\n",
              "      <td>33.6</td>\n",
              "      <td>50</td>\n",
              "      <td>6</td>\n",
              "      <td>0.627</td>\n",
              "      <td>0</td>\n",
              "    </tr>\n",
              "    <tr>\n",
              "      <th>1</th>\n",
              "      <td>85</td>\n",
              "      <td>26.6</td>\n",
              "      <td>31</td>\n",
              "      <td>1</td>\n",
              "      <td>0.351</td>\n",
              "      <td>0</td>\n",
              "    </tr>\n",
              "    <tr>\n",
              "      <th>2</th>\n",
              "      <td>183</td>\n",
              "      <td>23.3</td>\n",
              "      <td>32</td>\n",
              "      <td>8</td>\n",
              "      <td>0.672</td>\n",
              "      <td>0</td>\n",
              "    </tr>\n",
              "    <tr>\n",
              "      <th>3</th>\n",
              "      <td>89</td>\n",
              "      <td>28.1</td>\n",
              "      <td>21</td>\n",
              "      <td>1</td>\n",
              "      <td>0.167</td>\n",
              "      <td>94</td>\n",
              "    </tr>\n",
              "    <tr>\n",
              "      <th>4</th>\n",
              "      <td>116</td>\n",
              "      <td>25.6</td>\n",
              "      <td>30</td>\n",
              "      <td>5</td>\n",
              "      <td>0.201</td>\n",
              "      <td>0</td>\n",
              "    </tr>\n",
              "  </tbody>\n",
              "</table>\n",
              "</div>\n",
              "    <div class=\"colab-df-buttons\">\n",
              "\n",
              "  <div class=\"colab-df-container\">\n",
              "    <button class=\"colab-df-convert\" onclick=\"convertToInteractive('df-db620aeb-2ac5-47f6-8bdd-5036b32291f5')\"\n",
              "            title=\"Convert this dataframe to an interactive table.\"\n",
              "            style=\"display:none;\">\n",
              "\n",
              "  <svg xmlns=\"http://www.w3.org/2000/svg\" height=\"24px\" viewBox=\"0 -960 960 960\">\n",
              "    <path d=\"M120-120v-720h720v720H120Zm60-500h600v-160H180v160Zm220 220h160v-160H400v160Zm0 220h160v-160H400v160ZM180-400h160v-160H180v160Zm440 0h160v-160H620v160ZM180-180h160v-160H180v160Zm440 0h160v-160H620v160Z\"/>\n",
              "  </svg>\n",
              "    </button>\n",
              "\n",
              "  <style>\n",
              "    .colab-df-container {\n",
              "      display:flex;\n",
              "      gap: 12px;\n",
              "    }\n",
              "\n",
              "    .colab-df-convert {\n",
              "      background-color: #E8F0FE;\n",
              "      border: none;\n",
              "      border-radius: 50%;\n",
              "      cursor: pointer;\n",
              "      display: none;\n",
              "      fill: #1967D2;\n",
              "      height: 32px;\n",
              "      padding: 0 0 0 0;\n",
              "      width: 32px;\n",
              "    }\n",
              "\n",
              "    .colab-df-convert:hover {\n",
              "      background-color: #E2EBFA;\n",
              "      box-shadow: 0px 1px 2px rgba(60, 64, 67, 0.3), 0px 1px 3px 1px rgba(60, 64, 67, 0.15);\n",
              "      fill: #174EA6;\n",
              "    }\n",
              "\n",
              "    .colab-df-buttons div {\n",
              "      margin-bottom: 4px;\n",
              "    }\n",
              "\n",
              "    [theme=dark] .colab-df-convert {\n",
              "      background-color: #3B4455;\n",
              "      fill: #D2E3FC;\n",
              "    }\n",
              "\n",
              "    [theme=dark] .colab-df-convert:hover {\n",
              "      background-color: #434B5C;\n",
              "      box-shadow: 0px 1px 3px 1px rgba(0, 0, 0, 0.15);\n",
              "      filter: drop-shadow(0px 1px 2px rgba(0, 0, 0, 0.3));\n",
              "      fill: #FFFFFF;\n",
              "    }\n",
              "  </style>\n",
              "\n",
              "    <script>\n",
              "      const buttonEl =\n",
              "        document.querySelector('#df-db620aeb-2ac5-47f6-8bdd-5036b32291f5 button.colab-df-convert');\n",
              "      buttonEl.style.display =\n",
              "        google.colab.kernel.accessAllowed ? 'block' : 'none';\n",
              "\n",
              "      async function convertToInteractive(key) {\n",
              "        const element = document.querySelector('#df-db620aeb-2ac5-47f6-8bdd-5036b32291f5');\n",
              "        const dataTable =\n",
              "          await google.colab.kernel.invokeFunction('convertToInteractive',\n",
              "                                                    [key], {});\n",
              "        if (!dataTable) return;\n",
              "\n",
              "        const docLinkHtml = 'Like what you see? Visit the ' +\n",
              "          '<a target=\"_blank\" href=https://colab.research.google.com/notebooks/data_table.ipynb>data table notebook</a>'\n",
              "          + ' to learn more about interactive tables.';\n",
              "        element.innerHTML = '';\n",
              "        dataTable['output_type'] = 'display_data';\n",
              "        await google.colab.output.renderOutput(dataTable, element);\n",
              "        const docLink = document.createElement('div');\n",
              "        docLink.innerHTML = docLinkHtml;\n",
              "        element.appendChild(docLink);\n",
              "      }\n",
              "    </script>\n",
              "  </div>\n",
              "\n",
              "\n",
              "<div id=\"df-2ef18ae5-4246-41eb-9025-bfb54666670e\">\n",
              "  <button class=\"colab-df-quickchart\" onclick=\"quickchart('df-2ef18ae5-4246-41eb-9025-bfb54666670e')\"\n",
              "            title=\"Suggest charts.\"\n",
              "            style=\"display:none;\">\n",
              "\n",
              "<svg xmlns=\"http://www.w3.org/2000/svg\" height=\"24px\"viewBox=\"0 0 24 24\"\n",
              "     width=\"24px\">\n",
              "    <g>\n",
              "        <path d=\"M19 3H5c-1.1 0-2 .9-2 2v14c0 1.1.9 2 2 2h14c1.1 0 2-.9 2-2V5c0-1.1-.9-2-2-2zM9 17H7v-7h2v7zm4 0h-2V7h2v10zm4 0h-2v-4h2v4z\"/>\n",
              "    </g>\n",
              "</svg>\n",
              "  </button>\n",
              "\n",
              "<style>\n",
              "  .colab-df-quickchart {\n",
              "    background-color: #E8F0FE;\n",
              "    border: none;\n",
              "    border-radius: 50%;\n",
              "    cursor: pointer;\n",
              "    display: none;\n",
              "    fill: #1967D2;\n",
              "    height: 32px;\n",
              "    padding: 0 0 0 0;\n",
              "    width: 32px;\n",
              "  }\n",
              "\n",
              "  .colab-df-quickchart:hover {\n",
              "    background-color: #E2EBFA;\n",
              "    box-shadow: 0px 1px 2px rgba(60, 64, 67, 0.3), 0px 1px 3px 1px rgba(60, 64, 67, 0.15);\n",
              "    fill: #174EA6;\n",
              "  }\n",
              "\n",
              "  [theme=dark] .colab-df-quickchart {\n",
              "    background-color: #3B4455;\n",
              "    fill: #D2E3FC;\n",
              "  }\n",
              "\n",
              "  [theme=dark] .colab-df-quickchart:hover {\n",
              "    background-color: #434B5C;\n",
              "    box-shadow: 0px 1px 3px 1px rgba(0, 0, 0, 0.15);\n",
              "    filter: drop-shadow(0px 1px 2px rgba(0, 0, 0, 0.3));\n",
              "    fill: #FFFFFF;\n",
              "  }\n",
              "</style>\n",
              "\n",
              "  <script>\n",
              "    async function quickchart(key) {\n",
              "      const charts = await google.colab.kernel.invokeFunction(\n",
              "          'suggestCharts', [key], {});\n",
              "    }\n",
              "    (() => {\n",
              "      let quickchartButtonEl =\n",
              "        document.querySelector('#df-2ef18ae5-4246-41eb-9025-bfb54666670e button');\n",
              "      quickchartButtonEl.style.display =\n",
              "        google.colab.kernel.accessAllowed ? 'block' : 'none';\n",
              "    })();\n",
              "  </script>\n",
              "</div>\n",
              "    </div>\n",
              "  </div>\n"
            ]
          },
          "metadata": {},
          "execution_count": 5
        }
      ]
    },
    {
      "cell_type": "code",
      "source": [
        "scaler = StandardScaler()\n",
        "X_scaled = scaler.fit_transform(X)\n",
        "X_scaled"
      ],
      "metadata": {
        "colab": {
          "base_uri": "https://localhost:8080/"
        },
        "id": "IMF-tqUAFuMG",
        "outputId": "3d1d0224-ae29-4430-831b-83829c7037f5"
      },
      "execution_count": 6,
      "outputs": [
        {
          "output_type": "execute_result",
          "data": {
            "text/plain": [
              "array([[ 0.97096032,  0.23620211,  1.560567  ,  0.67318795,  0.79373836,\n",
              "        -0.79790091],\n",
              "       [-1.17716228, -0.84103479, -0.15898394, -0.85143798, -0.3077819 ,\n",
              "        -0.79790091],\n",
              "       [ 2.16436176, -1.34887504, -0.06848126,  1.28303832,  0.97333406,\n",
              "        -0.79790091],\n",
              "       ...,\n",
              "       [ 0.05033635, -0.90259118, -0.24948662,  0.36826276, -0.73082954,\n",
              "         0.6200553 ],\n",
              "       [ 0.22082227, -0.30241634,  1.28905896, -0.85143798, -0.31576393,\n",
              "        -0.79790091],\n",
              "       [-0.90438481, -0.25624904, -0.88300539, -0.85143798, -0.45145846,\n",
              "        -0.79790091]])"
            ]
          },
          "metadata": {},
          "execution_count": 6
        }
      ]
    },
    {
      "cell_type": "code",
      "source": [
        "X_train, X_test, y_train, y_test = train_test_split(X,y, test_size = 0.2, stratify=y, random_state=42)"
      ],
      "metadata": {
        "id": "24X7-PiaD8ff"
      },
      "execution_count": 7,
      "outputs": []
    },
    {
      "cell_type": "markdown",
      "source": [
        "# **Logistic Regression**"
      ],
      "metadata": {
        "id": "Sf-_oAt_E73m"
      }
    },
    {
      "cell_type": "code",
      "source": [
        "clf_lr = LogisticRegression()\n",
        "# train the classifier\n",
        "clf_lr.fit(X_train, y_train)\n",
        "y_pred = clf_lr.predict(X_test)\n",
        "# printing the test accuracy\n",
        "print(\"The test accuracy score of Logistric Regression Classifier is \", accuracy_score(y_test, y_pred))"
      ],
      "metadata": {
        "colab": {
          "base_uri": "https://localhost:8080/"
        },
        "id": "zmcePWe_DuEt",
        "outputId": "994e316d-333a-4936-ef7b-dad1d5213b4f"
      },
      "execution_count": 59,
      "outputs": [
        {
          "output_type": "stream",
          "name": "stdout",
          "text": [
            "The test accuracy score of Logistric Regression Classifier is  0.8\n"
          ]
        }
      ]
    },
    {
      "cell_type": "code",
      "source": [
        "print(\"The Classification Report of Logistic Regression Classifer\")\n",
        "print(classification_report(y_test, y_pred))"
      ],
      "metadata": {
        "colab": {
          "base_uri": "https://localhost:8080/"
        },
        "id": "goAU7e9AGKJR",
        "outputId": "09f299c3-e944-46db-e082-0941d9ce788c"
      },
      "execution_count": 60,
      "outputs": [
        {
          "output_type": "stream",
          "name": "stdout",
          "text": [
            "The Classification Report of Logistic Regression Classifer\n",
            "              precision    recall  f1-score   support\n",
            "\n",
            "           0       0.79      0.96      0.87        91\n",
            "           1       0.84      0.48      0.61        44\n",
            "\n",
            "    accuracy                           0.80       135\n",
            "   macro avg       0.82      0.72      0.74       135\n",
            "weighted avg       0.81      0.80      0.78       135\n",
            "\n"
          ]
        }
      ]
    },
    {
      "cell_type": "code",
      "source": [
        "# Logistic regression classifier with hyperparameter\n",
        "clf_lr = LogisticRegression()\n",
        "\n",
        "param_grid1 = {\n",
        "    'max_iter': [30, 50, 100, 150],\n",
        "    'multi_class': ['auto'],\n",
        "    'solver' : ['lbfgs', 'newton-cholesky']\n",
        "}\n",
        "\n",
        "gs1 = GridSearchCV(\n",
        "        estimator= clf_lr,\n",
        "        param_grid = param_grid1,\n",
        "        cv=5,\n",
        "        n_jobs=-1,\n",
        "        scoring='accuracy'\n",
        "    )\n",
        "\n",
        "fit_clf_lr = gs1.fit(X_train, y_train)\n",
        "\n",
        "print(fit_clf_lr.best_score_)\n",
        "print(fit_clf_lr.best_params_)"
      ],
      "metadata": {
        "colab": {
          "base_uri": "https://localhost:8080/"
        },
        "id": "DS1fO5gRD7Za",
        "outputId": "51ed8e83-fed9-468f-bc28-ec82c9cf03ad"
      },
      "execution_count": 61,
      "outputs": [
        {
          "output_type": "stream",
          "name": "stdout",
          "text": [
            "0.7791623399100034\n",
            "{'max_iter': 50, 'multi_class': 'auto', 'solver': 'lbfgs'}\n"
          ]
        }
      ]
    },
    {
      "cell_type": "code",
      "source": [
        "y_pred = fit_clf_lr.predict(X_test)\n",
        "print(\"The Classification Report of Logistic Regression Classifer\")\n",
        "print(classification_report(y_test, y_pred))"
      ],
      "metadata": {
        "colab": {
          "base_uri": "https://localhost:8080/"
        },
        "id": "tVGslfpqGR5O",
        "outputId": "a290abe5-b4fc-48e4-b513-b4d1a40a2a39"
      },
      "execution_count": 62,
      "outputs": [
        {
          "output_type": "stream",
          "name": "stdout",
          "text": [
            "The Classification Report of Logistic Regression Classifer\n",
            "              precision    recall  f1-score   support\n",
            "\n",
            "           0       0.79      0.95      0.86        91\n",
            "           1       0.81      0.48      0.60        44\n",
            "\n",
            "    accuracy                           0.79       135\n",
            "   macro avg       0.80      0.71      0.73       135\n",
            "weighted avg       0.80      0.79      0.78       135\n",
            "\n"
          ]
        }
      ]
    },
    {
      "cell_type": "markdown",
      "source": [
        "# **Decision Tree**"
      ],
      "metadata": {
        "id": "M7jNbr-5FKHm"
      }
    },
    {
      "cell_type": "code",
      "source": [
        "clf_dt = DecisionTreeClassifier()\n",
        "# train the classifier\n",
        "clf_dt.fit(X_train, y_train)\n",
        "y_pred = clf_dt.predict(X_test)\n",
        "# printing the test accuracy\n",
        "print(\"The test accuracy score of Decision Tree Classifier is \", accuracy_score(y_test, y_pred))"
      ],
      "metadata": {
        "colab": {
          "base_uri": "https://localhost:8080/"
        },
        "id": "2LrpxTSCGEtF",
        "outputId": "09a6c9d3-724a-4851-987e-787b709de89a"
      },
      "execution_count": 12,
      "outputs": [
        {
          "output_type": "stream",
          "name": "stdout",
          "text": [
            "The test accuracy score of Decision Tree Classifier is  0.7333333333333333\n"
          ]
        }
      ]
    },
    {
      "cell_type": "code",
      "source": [
        "print(\"The Classification Report of Decision Tree Classifier\")\n",
        "print(classification_report(y_test, y_pred))"
      ],
      "metadata": {
        "colab": {
          "base_uri": "https://localhost:8080/"
        },
        "id": "P_yCNrNyGZ6V",
        "outputId": "44578663-bbc3-4f3f-adf2-9a0eb7f800b9"
      },
      "execution_count": 13,
      "outputs": [
        {
          "output_type": "stream",
          "name": "stdout",
          "text": [
            "The Classification Report of Decision Tree Classifier\n",
            "              precision    recall  f1-score   support\n",
            "\n",
            "           0       0.78      0.84      0.81        91\n",
            "           1       0.61      0.52      0.56        44\n",
            "\n",
            "    accuracy                           0.73       135\n",
            "   macro avg       0.69      0.68      0.68       135\n",
            "weighted avg       0.73      0.73      0.73       135\n",
            "\n"
          ]
        }
      ]
    },
    {
      "cell_type": "code",
      "source": [
        "# Decision Tree classifier with hyperparameter\n",
        "clf_dt = DecisionTreeClassifier()\n",
        "\n",
        "param_grid1 = {'min_samples_leaf': [1, 10, 100],\n",
        "               'max_depth': [1, 10, 20, 30],\n",
        "               'criterion': ['gini', 'entropy']}\n",
        "\n",
        "gs1 = GridSearchCV(\n",
        "        estimator=clf_dt,\n",
        "        param_grid = param_grid1,\n",
        "        cv=5,\n",
        "        n_jobs=-1,\n",
        "        scoring='accuracy'\n",
        "    )\n",
        "\n",
        "fit_clf_dt = gs1.fit(X_train, y_train)\n",
        "\n",
        "print(fit_clf_dt.best_score_)\n",
        "print(fit_clf_dt.best_params_)"
      ],
      "metadata": {
        "colab": {
          "base_uri": "https://localhost:8080/"
        },
        "id": "diwoMahfGc-b",
        "outputId": "b506f459-491a-4925-cfdc-fec1314dead3"
      },
      "execution_count": 14,
      "outputs": [
        {
          "output_type": "stream",
          "name": "stdout",
          "text": [
            "0.7494980962270682\n",
            "{'criterion': 'entropy', 'max_depth': 30, 'min_samples_leaf': 10}\n"
          ]
        }
      ]
    },
    {
      "cell_type": "code",
      "source": [
        "y_pred = fit_clf_dt.predict(X_test)\n",
        "print(\"The Classification Report of Decision Tree Classifier\")\n",
        "print(classification_report(y_test, y_pred))"
      ],
      "metadata": {
        "colab": {
          "base_uri": "https://localhost:8080/"
        },
        "id": "PGdxuutoGipt",
        "outputId": "8d5ea7f8-3bfc-4f6a-cf01-1df1d62a1d71"
      },
      "execution_count": 15,
      "outputs": [
        {
          "output_type": "stream",
          "name": "stdout",
          "text": [
            "The Classification Report of Decision Tree Classifier\n",
            "              precision    recall  f1-score   support\n",
            "\n",
            "           0       0.77      0.86      0.81        91\n",
            "           1       0.62      0.48      0.54        44\n",
            "\n",
            "    accuracy                           0.73       135\n",
            "   macro avg       0.69      0.67      0.68       135\n",
            "weighted avg       0.72      0.73      0.72       135\n",
            "\n"
          ]
        }
      ]
    },
    {
      "cell_type": "markdown",
      "source": [
        "# **Random Forest**"
      ],
      "metadata": {
        "id": "lcsQ4LGsGt64"
      }
    },
    {
      "cell_type": "code",
      "source": [
        "clf_rf = RandomForestClassifier()\n",
        "# train the classifier\n",
        "clf_rf.fit(X_train, y_train)\n",
        "y_pred = clf_rf.predict(X_test)\n",
        "# printing the test accuracy\n",
        "print(\"The test accuracy score of Random Forest Classifier is \", accuracy_score(y_test, y_pred))"
      ],
      "metadata": {
        "colab": {
          "base_uri": "https://localhost:8080/"
        },
        "id": "8601gvS9Gsxj",
        "outputId": "2172ff48-7e32-48fe-cad0-b09704bff86b"
      },
      "execution_count": 16,
      "outputs": [
        {
          "output_type": "stream",
          "name": "stdout",
          "text": [
            "The test accuracy score of Random Forest Classifier is  0.7555555555555555\n"
          ]
        }
      ]
    },
    {
      "cell_type": "code",
      "source": [
        "print(\"The Classification Report of Random Forest Classifier\")\n",
        "print(classification_report(y_test, y_pred))"
      ],
      "metadata": {
        "colab": {
          "base_uri": "https://localhost:8080/"
        },
        "id": "CrQmO3IRG3n-",
        "outputId": "27753757-4bc6-41ff-f20e-9c6ec9dd5747"
      },
      "execution_count": 17,
      "outputs": [
        {
          "output_type": "stream",
          "name": "stdout",
          "text": [
            "The Classification Report of Random Forest Classifier\n",
            "              precision    recall  f1-score   support\n",
            "\n",
            "           0       0.77      0.91      0.83        91\n",
            "           1       0.70      0.43      0.54        44\n",
            "\n",
            "    accuracy                           0.76       135\n",
            "   macro avg       0.74      0.67      0.68       135\n",
            "weighted avg       0.75      0.76      0.74       135\n",
            "\n"
          ]
        }
      ]
    },
    {
      "cell_type": "code",
      "source": [
        "# Random Forest classifier with hyperparameter\n",
        "clf_rf = RandomForestClassifier()\n",
        "\n",
        "param_grid1 = {'n_estimators': [100, 200, 300, 400],\n",
        "               'max_depth': [3, 5, 7, 9],\n",
        "               'criterion': ['gini', 'entropy']}\n",
        "\n",
        "gs1 = GridSearchCV(\n",
        "        estimator=clf_rf,\n",
        "        param_grid = param_grid1,\n",
        "        cv=5,\n",
        "        n_jobs=-1,\n",
        "        scoring='accuracy'\n",
        "    )\n",
        "\n",
        "fit_clf_rf = gs1.fit(X_train, y_train)\n",
        "\n",
        "print(fit_clf_rf.best_score_)\n",
        "print(fit_clf_rf.best_params_)"
      ],
      "metadata": {
        "colab": {
          "base_uri": "https://localhost:8080/"
        },
        "id": "o-OpBj8XHHSr",
        "outputId": "61903159-3126-4dc5-a9f1-04e27259c0e7"
      },
      "execution_count": 18,
      "outputs": [
        {
          "output_type": "stream",
          "name": "stdout",
          "text": [
            "0.7791623399100035\n",
            "{'criterion': 'gini', 'max_depth': 9, 'n_estimators': 100}\n"
          ]
        }
      ]
    },
    {
      "cell_type": "code",
      "source": [
        "y_pred = fit_clf_rf.predict(X_test)\n",
        "print(\"The Classification Report of Random Forest Classifier\")\n",
        "print(classification_report(y_test, y_pred))"
      ],
      "metadata": {
        "colab": {
          "base_uri": "https://localhost:8080/"
        },
        "id": "Eiez5JUCHSaN",
        "outputId": "22ce3cc3-9ea2-4b3b-8147-04eb1ca5324a"
      },
      "execution_count": 19,
      "outputs": [
        {
          "output_type": "stream",
          "name": "stdout",
          "text": [
            "The Classification Report of Random Forest Classifier\n",
            "              precision    recall  f1-score   support\n",
            "\n",
            "           0       0.78      0.89      0.83        91\n",
            "           1       0.68      0.48      0.56        44\n",
            "\n",
            "    accuracy                           0.76       135\n",
            "   macro avg       0.73      0.68      0.70       135\n",
            "weighted avg       0.75      0.76      0.74       135\n",
            "\n"
          ]
        }
      ]
    },
    {
      "cell_type": "markdown",
      "source": [
        "# **K-Nearest Neighbors**"
      ],
      "metadata": {
        "id": "3IL8AtyPJDzM"
      }
    },
    {
      "cell_type": "code",
      "source": [
        "clf_knn = KNeighborsClassifier()\n",
        "# train the classifier\n",
        "clf_knn.fit(X_train, y_train)\n",
        "y_pred = clf_knn.predict(X_test)\n",
        "# printing the test accuracy\n",
        "print(\"The test accuracy score of K-Nearest Neighbors Classifier is \", accuracy_score(y_test, y_pred))"
      ],
      "metadata": {
        "colab": {
          "base_uri": "https://localhost:8080/"
        },
        "id": "9pIrc7UdJNET",
        "outputId": "afd6124a-f524-400f-c6bb-8393997135b0"
      },
      "execution_count": 20,
      "outputs": [
        {
          "output_type": "stream",
          "name": "stdout",
          "text": [
            "The test accuracy score of K-Nearest Neighbors Classifier is  0.725925925925926\n"
          ]
        }
      ]
    },
    {
      "cell_type": "code",
      "source": [
        "print(\"The Classification Report of K-Nearest Neighbors Classifier\")\n",
        "print(classification_report(y_test, y_pred))"
      ],
      "metadata": {
        "colab": {
          "base_uri": "https://localhost:8080/"
        },
        "id": "t1sXtOekJRtQ",
        "outputId": "5517f5de-db1b-48ff-efa3-943247b7e8a9"
      },
      "execution_count": 21,
      "outputs": [
        {
          "output_type": "stream",
          "name": "stdout",
          "text": [
            "The Classification Report of K-Nearest Neighbors Classifier\n",
            "              precision    recall  f1-score   support\n",
            "\n",
            "           0       0.77      0.85      0.81        91\n",
            "           1       0.60      0.48      0.53        44\n",
            "\n",
            "    accuracy                           0.73       135\n",
            "   macro avg       0.69      0.66      0.67       135\n",
            "weighted avg       0.71      0.73      0.72       135\n",
            "\n"
          ]
        }
      ]
    },
    {
      "cell_type": "code",
      "source": [
        "# K-Nearest Neighbors Classifier with hyperparameter\n",
        "clf_knn = KNeighborsClassifier()\n",
        "\n",
        "param_grid1 = {'n_neighbors': [3, 5, 7],\n",
        "              'weights': ['uniform', 'distance'],\n",
        "              'metric': ['euclidean', 'manhattan']}\n",
        "\n",
        "gs1 = GridSearchCV(\n",
        "        estimator=clf_knn,\n",
        "        param_grid=param_grid1,\n",
        "        cv=5,\n",
        "        scoring='accuracy'\n",
        "        )\n",
        "\n",
        "fit_clf_knn = gs1.fit(X_train, y_train)\n",
        "\n",
        "print(fit_clf_knn.best_score_)\n",
        "print(fit_clf_knn.best_params_)"
      ],
      "metadata": {
        "colab": {
          "base_uri": "https://localhost:8080/"
        },
        "id": "I-mP6f-RJV5m",
        "outputId": "9e976c71-3901-4ce1-cc87-79ae5fa7e31d"
      },
      "execution_count": 22,
      "outputs": [
        {
          "output_type": "stream",
          "name": "stdout",
          "text": [
            "0.7606784354447906\n",
            "{'metric': 'manhattan', 'n_neighbors': 7, 'weights': 'uniform'}\n"
          ]
        }
      ]
    },
    {
      "cell_type": "code",
      "source": [
        "y_pred = fit_clf_knn.predict(X_test)\n",
        "print(\"The Classification Report of K_Nearest Neighbors Classifier\")\n",
        "print(classification_report(y_test, y_pred))"
      ],
      "metadata": {
        "colab": {
          "base_uri": "https://localhost:8080/"
        },
        "id": "cl6B9dMuJhS9",
        "outputId": "3858831d-0456-4192-9229-945a27949471"
      },
      "execution_count": 23,
      "outputs": [
        {
          "output_type": "stream",
          "name": "stdout",
          "text": [
            "The Classification Report of K_Nearest Neighbors Classifier\n",
            "              precision    recall  f1-score   support\n",
            "\n",
            "           0       0.77      0.86      0.81        91\n",
            "           1       0.62      0.48      0.54        44\n",
            "\n",
            "    accuracy                           0.73       135\n",
            "   macro avg       0.69      0.67      0.68       135\n",
            "weighted avg       0.72      0.73      0.72       135\n",
            "\n"
          ]
        }
      ]
    },
    {
      "cell_type": "markdown",
      "source": [
        "# **Support Vector Machine**"
      ],
      "metadata": {
        "id": "FbWii_NhJpyD"
      }
    },
    {
      "cell_type": "code",
      "source": [
        "clf_svm = SVC()\n",
        "# train the classifier\n",
        "clf_svm.fit(X_train, y_train)\n",
        "y_pred = clf_svm.predict(X_test)\n",
        "# printing the test accuracy\n",
        "print(\"The test accuracy score of Support Vector Machine Classifier is \", accuracy_score(y_test, y_pred))"
      ],
      "metadata": {
        "colab": {
          "base_uri": "https://localhost:8080/"
        },
        "id": "pMzfVflfJyOw",
        "outputId": "143795c6-449a-4c4e-d48a-e3ca2306594c"
      },
      "execution_count": 24,
      "outputs": [
        {
          "output_type": "stream",
          "name": "stdout",
          "text": [
            "The test accuracy score of Support Vector Machine Classifier is  0.7703703703703704\n"
          ]
        }
      ]
    },
    {
      "cell_type": "code",
      "source": [
        "print(\"The Classification Report of Support Vector Machine Classifier\")\n",
        "print(classification_report(y_test, y_pred))"
      ],
      "metadata": {
        "colab": {
          "base_uri": "https://localhost:8080/"
        },
        "id": "2cXCIMZTJ0oQ",
        "outputId": "ca7c13f0-da7b-45b5-efa4-c8e7e9f2d823"
      },
      "execution_count": 25,
      "outputs": [
        {
          "output_type": "stream",
          "name": "stdout",
          "text": [
            "The Classification Report of Support Vector Machine Classifier\n",
            "              precision    recall  f1-score   support\n",
            "\n",
            "           0       0.77      0.95      0.85        91\n",
            "           1       0.78      0.41      0.54        44\n",
            "\n",
            "    accuracy                           0.77       135\n",
            "   macro avg       0.78      0.68      0.69       135\n",
            "weighted avg       0.77      0.77      0.75       135\n",
            "\n"
          ]
        }
      ]
    },
    {
      "cell_type": "code",
      "source": [
        "# Support Machine Classifier with hyperparameter\n",
        "clf_svm = SVC(probability=True)\n",
        "\n",
        "param_grid1 = {'C': [0.1, 1, 10],\n",
        "              'kernel': ['linear']}\n",
        "\n",
        "gs1 = GridSearchCV(\n",
        "        estimator=clf_svm,\n",
        "        param_grid = param_grid1,\n",
        "        cv=5,\n",
        "        scoring='accuracy'\n",
        "    )\n",
        "\n",
        "fit_clf_svm = gs1.fit(X_train, y_train)\n",
        "\n",
        "print(fit_clf_svm.best_score_)\n",
        "print(fit_clf_svm.best_params_)"
      ],
      "metadata": {
        "colab": {
          "base_uri": "https://localhost:8080/"
        },
        "id": "Q__7vTxiZi3g",
        "outputId": "7d0e0056-6da4-4b66-d75a-56b02bf0907c"
      },
      "execution_count": 63,
      "outputs": [
        {
          "output_type": "stream",
          "name": "stdout",
          "text": [
            "0.784717895465559\n",
            "{'C': 1, 'kernel': 'linear'}\n"
          ]
        }
      ]
    },
    {
      "cell_type": "code",
      "source": [
        "y_pred = fit_clf_svm.predict(X_test)\n",
        "print(\"The Classification Report of Support Vector Machine Classifier\")\n",
        "print(classification_report(y_test, y_pred))"
      ],
      "metadata": {
        "colab": {
          "base_uri": "https://localhost:8080/"
        },
        "id": "30EWe546J-sG",
        "outputId": "5af82930-134d-4c47-be44-32ff0f70233a"
      },
      "execution_count": 64,
      "outputs": [
        {
          "output_type": "stream",
          "name": "stdout",
          "text": [
            "The Classification Report of Support Vector Machine Classifier\n",
            "              precision    recall  f1-score   support\n",
            "\n",
            "           0       0.79      0.96      0.87        91\n",
            "           1       0.84      0.48      0.61        44\n",
            "\n",
            "    accuracy                           0.80       135\n",
            "   macro avg       0.82      0.72      0.74       135\n",
            "weighted avg       0.81      0.80      0.78       135\n",
            "\n"
          ]
        }
      ]
    },
    {
      "cell_type": "markdown",
      "source": [
        "# **Naives Bayes**"
      ],
      "metadata": {
        "id": "eCGCx5SEK08h"
      }
    },
    {
      "cell_type": "code",
      "source": [
        "clf_nb = GaussianNB()\n",
        "# train the classifier\n",
        "clf_nb.fit(X_train, y_train)\n",
        "y_pred = clf_nb.predict(X_test)\n",
        "# printing the test accuracy\n",
        "print(\"The test accuracy score of Naives Bayes Classifier is \", accuracy_score(y_test, y_pred))"
      ],
      "metadata": {
        "colab": {
          "base_uri": "https://localhost:8080/"
        },
        "id": "koLJ6qOIK_Zl",
        "outputId": "f6a55708-e5ef-4001-b284-a65ab0ab45a7"
      },
      "execution_count": 53,
      "outputs": [
        {
          "output_type": "stream",
          "name": "stdout",
          "text": [
            "The test accuracy score of Naives Bayes Classifier is  0.7703703703703704\n"
          ]
        }
      ]
    },
    {
      "cell_type": "code",
      "source": [
        "print (\"The Classification Report of Naives Bayes Classifier\")\n",
        "print(classification_report(y_test, y_pred))"
      ],
      "metadata": {
        "colab": {
          "base_uri": "https://localhost:8080/"
        },
        "id": "1ZIrA4t_LCDt",
        "outputId": "f323c30f-1b7a-4f20-b011-68628b288697"
      },
      "execution_count": 54,
      "outputs": [
        {
          "output_type": "stream",
          "name": "stdout",
          "text": [
            "The Classification Report of Naives Bayes Classifier\n",
            "              precision    recall  f1-score   support\n",
            "\n",
            "           0       0.78      0.91      0.84        91\n",
            "           1       0.72      0.48      0.58        44\n",
            "\n",
            "    accuracy                           0.77       135\n",
            "   macro avg       0.75      0.69      0.71       135\n",
            "weighted avg       0.76      0.77      0.76       135\n",
            "\n"
          ]
        }
      ]
    },
    {
      "cell_type": "code",
      "source": [
        "# Naives Bayes Classifier with hyperparameter\n",
        "clf_nb = GaussianNB()\n",
        "\n",
        "param_grid1 = {'var_smoothing': [1e-9, 1e-8, 1e-7, 1e-6]}\n",
        "\n",
        "gs1 = GridSearchCV(\n",
        "        estimator=clf_nb,\n",
        "        param_grid = param_grid1,\n",
        "        cv=5,\n",
        "        scoring='accuracy'\n",
        "    )\n",
        "\n",
        "fit_clf_nb = gs1.fit(X_train, y_train)\n",
        "\n",
        "print(fit_clf_nb.best_score_)\n",
        "print(fit_clf_nb.best_params_)"
      ],
      "metadata": {
        "colab": {
          "base_uri": "https://localhost:8080/"
        },
        "id": "hb51Y-S6LE0b",
        "outputId": "b428b131-89a8-474f-f1b2-ec3fb114e46d"
      },
      "execution_count": 55,
      "outputs": [
        {
          "output_type": "stream",
          "name": "stdout",
          "text": [
            "0.7772931810314988\n",
            "{'var_smoothing': 1e-06}\n"
          ]
        }
      ]
    },
    {
      "cell_type": "code",
      "source": [
        "y_pred = fit_clf_nb.predict(X_test)\n",
        "print(\"The Classification Report of Naives Bayes Classifier\")\n",
        "print(classification_report(y_test, y_pred))"
      ],
      "metadata": {
        "colab": {
          "base_uri": "https://localhost:8080/"
        },
        "id": "aqy_L5y5LIrC",
        "outputId": "d67c9ed0-5ab9-4505-da83-e686f9ba04f3"
      },
      "execution_count": 56,
      "outputs": [
        {
          "output_type": "stream",
          "name": "stdout",
          "text": [
            "The Classification Report of Naives Bayes Classifier\n",
            "              precision    recall  f1-score   support\n",
            "\n",
            "           0       0.78      0.91      0.84        91\n",
            "           1       0.71      0.45      0.56        44\n",
            "\n",
            "    accuracy                           0.76       135\n",
            "   macro avg       0.74      0.68      0.70       135\n",
            "weighted avg       0.76      0.76      0.75       135\n",
            "\n"
          ]
        }
      ]
    },
    {
      "cell_type": "markdown",
      "source": [
        "# **XG Boost**"
      ],
      "metadata": {
        "id": "9tyLgbftLsLq"
      }
    },
    {
      "cell_type": "code",
      "source": [
        "clf_xgb = XGBClassifier()\n",
        "# train the classifier\n",
        "clf_xgb.fit(X_train, y_train)\n",
        "y_pred = clf_xgb.predict(X_test)\n",
        "# printing the test accuracy\n",
        "print(\"The test accuracy score of XG Boost Classifier is \", accuracy_score(y_test, y_pred))"
      ],
      "metadata": {
        "colab": {
          "base_uri": "https://localhost:8080/"
        },
        "id": "gC7W5ocMLyBf",
        "outputId": "c1267d69-c799-48d3-97f2-505f13589d58"
      },
      "execution_count": 44,
      "outputs": [
        {
          "output_type": "stream",
          "name": "stdout",
          "text": [
            "The test accuracy score of XG Boost Classifier is  0.7481481481481481\n"
          ]
        }
      ]
    },
    {
      "cell_type": "code",
      "source": [
        "print(\"The Classification Report of XG Boost Classifier\")\n",
        "print(classification_report(y_test, y_pred))"
      ],
      "metadata": {
        "colab": {
          "base_uri": "https://localhost:8080/"
        },
        "id": "LD8I-7tIL4Zv",
        "outputId": "74ad8773-1506-4eb8-fe5e-78e699e56f99"
      },
      "execution_count": 45,
      "outputs": [
        {
          "output_type": "stream",
          "name": "stdout",
          "text": [
            "The Classification Report of XG Boost Classifier\n",
            "              precision    recall  f1-score   support\n",
            "\n",
            "           0       0.79      0.86      0.82        91\n",
            "           1       0.64      0.52      0.57        44\n",
            "\n",
            "    accuracy                           0.75       135\n",
            "   macro avg       0.71      0.69      0.70       135\n",
            "weighted avg       0.74      0.75      0.74       135\n",
            "\n"
          ]
        }
      ]
    },
    {
      "cell_type": "code",
      "source": [
        "# XG Boost Classifier with hyperparameter\n",
        "clf_xgb = XGBClassifier()\n",
        "\n",
        "param_grid1 = {'learning_rate': [0.01, 0.1, 0.2],\n",
        "                'n_estimators': [100, 200, 300],\n",
        "                'max_depth': [3, 4, 5],}\n",
        "\n",
        "gs1 = GridSearchCV(\n",
        "        estimator=clf_xgb,\n",
        "        param_grid = param_grid1,\n",
        "        cv=5,\n",
        "        scoring='accuracy'\n",
        "    )\n",
        "\n",
        "fit_clf_xgb = gs1.fit(X_train, y_train)\n",
        "\n",
        "print(fit_clf_xgb.best_score_)\n",
        "print(fit_clf_xgb.best_params_)"
      ],
      "metadata": {
        "colab": {
          "base_uri": "https://localhost:8080/"
        },
        "id": "XgcFTgpCL7nU",
        "outputId": "faee0bd3-0706-4f64-9109-2447a066c500"
      },
      "execution_count": 46,
      "outputs": [
        {
          "output_type": "stream",
          "name": "stdout",
          "text": [
            "0.7754413291796469\n",
            "{'learning_rate': 0.01, 'max_depth': 3, 'n_estimators': 200}\n"
          ]
        }
      ]
    },
    {
      "cell_type": "code",
      "source": [
        "y_pred = fit_clf_xgb.predict(X_test)\n",
        "print(\"The Classification Report of XG Boost Classifier\")\n",
        "print(classification_report(y_test, y_pred))"
      ],
      "metadata": {
        "colab": {
          "base_uri": "https://localhost:8080/"
        },
        "id": "ZbepRnXeL_yT",
        "outputId": "5b1f4ff0-3547-4daa-e377-3ce79c027c75"
      },
      "execution_count": 47,
      "outputs": [
        {
          "output_type": "stream",
          "name": "stdout",
          "text": [
            "The Classification Report of XG Boost Classifier\n",
            "              precision    recall  f1-score   support\n",
            "\n",
            "           0       0.77      0.90      0.83        91\n",
            "           1       0.69      0.45      0.55        44\n",
            "\n",
            "    accuracy                           0.76       135\n",
            "   macro avg       0.73      0.68      0.69       135\n",
            "weighted avg       0.75      0.76      0.74       135\n",
            "\n"
          ]
        }
      ]
    },
    {
      "cell_type": "markdown",
      "source": [
        "# **MLP Classifier**"
      ],
      "metadata": {
        "id": "DFv4ts1dMGBn"
      }
    },
    {
      "cell_type": "code",
      "source": [
        "clf_mlp = MLPClassifier()\n",
        "# train the classifier\n",
        "clf_mlp.fit(X_train, y_train)\n",
        "y_pred = clf_mlp.predict(X_test)\n",
        "# printing the test accuracy\n",
        "print(\"The test accuracy score of MLP Classifier is \", accuracy_score(y_test, y_pred))"
      ],
      "metadata": {
        "colab": {
          "base_uri": "https://localhost:8080/"
        },
        "id": "3NF6WfCIMNo5",
        "outputId": "bed0fc33-6652-4786-9659-0cd292e15b2a"
      },
      "execution_count": 40,
      "outputs": [
        {
          "output_type": "stream",
          "name": "stdout",
          "text": [
            "The test accuracy score of MLP Classifier is  0.7037037037037037\n"
          ]
        }
      ]
    },
    {
      "cell_type": "code",
      "source": [
        "print(\"The Classification Report of MLP Classifier\")\n",
        "print(classification_report(y_test, y_pred))"
      ],
      "metadata": {
        "colab": {
          "base_uri": "https://localhost:8080/"
        },
        "id": "Lk5BRd3GMRC2",
        "outputId": "ba9bfffd-ba31-4a5c-834e-4a70bcd16a37"
      },
      "execution_count": 41,
      "outputs": [
        {
          "output_type": "stream",
          "name": "stdout",
          "text": [
            "The Classification Report of MLP Classifier\n",
            "              precision    recall  f1-score   support\n",
            "\n",
            "           0       0.73      0.88      0.80        91\n",
            "           1       0.58      0.34      0.43        44\n",
            "\n",
            "    accuracy                           0.70       135\n",
            "   macro avg       0.66      0.61      0.61       135\n",
            "weighted avg       0.68      0.70      0.68       135\n",
            "\n"
          ]
        }
      ]
    },
    {
      "cell_type": "code",
      "source": [
        "# MLP Classifier with hyperparameter\n",
        "clf_mlp = MLPClassifier()\n",
        "\n",
        "param_grid1 = {'hidden_layer_sizes': [1, 10, 20, 30],\n",
        "               'activation': ['tanh', 'relu'],\n",
        "               'solver': ['lbfgs', 'adam', 'sgd']}\n",
        "\n",
        "gs1 = GridSearchCV(\n",
        "        estimator=clf_mlp,\n",
        "        param_grid = param_grid1,\n",
        "        cv=5,\n",
        "        n_jobs=-1,\n",
        "        scoring='accuracy'\n",
        "    )\n",
        "\n",
        "fit_clf_mlp = gs1.fit(X_train, y_train)\n",
        "\n",
        "print(fit_clf_mlp.best_score_)\n",
        "print(fit_clf_mlp.best_params_)"
      ],
      "metadata": {
        "colab": {
          "base_uri": "https://localhost:8080/"
        },
        "id": "wIArc8rTMTb3",
        "outputId": "4718663c-46be-433f-dc69-deea41d88998"
      },
      "execution_count": 42,
      "outputs": [
        {
          "output_type": "stream",
          "name": "stdout",
          "text": [
            "0.7532364139840776\n",
            "{'activation': 'relu', 'hidden_layer_sizes': 20, 'solver': 'lbfgs'}\n"
          ]
        }
      ]
    },
    {
      "cell_type": "code",
      "source": [
        "y_pred = fit_clf_mlp.predict(X_test)\n",
        "print(\"The Classification Report of MLP Classifier\")\n",
        "print(classification_report(y_test, y_pred))"
      ],
      "metadata": {
        "colab": {
          "base_uri": "https://localhost:8080/"
        },
        "id": "XRYsr4_EMYwe",
        "outputId": "3b060ca3-37d2-4c1e-d76b-f012210ef71c"
      },
      "execution_count": 43,
      "outputs": [
        {
          "output_type": "stream",
          "name": "stdout",
          "text": [
            "The Classification Report of MLP Classifier\n",
            "              precision    recall  f1-score   support\n",
            "\n",
            "           0       0.76      0.92      0.84        91\n",
            "           1       0.72      0.41      0.52        44\n",
            "\n",
            "    accuracy                           0.76       135\n",
            "   macro avg       0.74      0.67      0.68       135\n",
            "weighted avg       0.75      0.76      0.73       135\n",
            "\n"
          ]
        }
      ]
    },
    {
      "cell_type": "markdown",
      "source": [
        "# **ROC Analysis**"
      ],
      "metadata": {
        "id": "a0HQghBuN33n"
      }
    },
    {
      "cell_type": "code",
      "source": [
        "# Predict the probabilities for the positive class\n",
        "y_pred_logreg = fit_clf_lr.predict_proba(X_test)[:, 1]\n",
        "y_pred_rf = fit_clf_rf.predict_proba(X_test)[:, 1]\n",
        "y_pred_dt= fit_clf_dt.predict_proba(X_test)[:, 1]\n",
        "y_pred_knn= fit_clf_knn.predict_proba(X_test)[:, 1]\n",
        "y_pred_svm= fit_clf_svm.predict_proba(X_test)[:, 1]\n",
        "y_pred_nb= fit_clf_nb.predict_proba(X_test)[:, 1]\n",
        "y_pred_xgb= fit_clf_xgb.predict_proba(X_test)[:, 1]\n",
        "y_pred_mlp= fit_clf_mlp.predict_proba(X_test)[:, 1]\n",
        "\n",
        "# Calculate the AUC-ROC scores\n",
        "auc_logreg = roc_auc_score(y_test, y_pred_logreg)\n",
        "auc_rf = roc_auc_score(y_test, y_pred_rf)\n",
        "auc_dt = roc_auc_score(y_test, y_pred_dt)\n",
        "auc_knn = roc_auc_score(y_test, y_pred_knn)\n",
        "auc_svm = roc_auc_score(y_test, y_pred_svm)\n",
        "auc_nb = roc_auc_score(y_test, y_pred_nb)\n",
        "auc_xgb = roc_auc_score(y_test, y_pred_xgb)\n",
        "auc_mlp = roc_auc_score(y_test, y_pred_mlp)\n",
        "\n",
        "print(f\"AUC-ROC for Logistic Regression: {auc_logreg}\")\n",
        "print(f\"AUC-ROC for Random Forest: {auc_rf}\")\n",
        "print(f\"AUC-ROC for Decision Tree: {auc_dt}\")\n",
        "print(f\"AUC-ROC for K-Nearest Neighbors: {auc_knn}\")\n",
        "print(f\"AUC-ROC for Support Vector Machine: {auc_svm}\")\n",
        "print(f\"AUC-ROC for Naives Bayes: {auc_nb}\")\n",
        "print(f\"AUC-ROC for XGBoost: {auc_xgb}\")\n",
        "print(f\"AUC-ROC for MLP: {auc_mlp}\")"
      ],
      "metadata": {
        "colab": {
          "base_uri": "https://localhost:8080/"
        },
        "id": "daF2QDmqPW3K",
        "outputId": "1e3dca62-1835-4ccb-8fa5-f0506ddfb59b"
      },
      "execution_count": 48,
      "outputs": [
        {
          "output_type": "stream",
          "name": "stdout",
          "text": [
            "AUC-ROC for Logistic Regression: 0.8359140859140859\n",
            "AUC-ROC for Random Forest: 0.8074425574425574\n",
            "AUC-ROC for Decision Tree: 0.7837162837162837\n",
            "AUC-ROC for K-Nearest Neighbors: 0.772977022977023\n",
            "AUC-ROC for Support Vector Machine: 0.8359140859140859\n",
            "AUC-ROC for Naives Bayes: 0.8411588411588411\n",
            "AUC-ROC for XGBoost: 0.8394105894105893\n",
            "AUC-ROC for MLP: 0.7167832167832169\n"
          ]
        }
      ]
    },
    {
      "cell_type": "code",
      "source": [
        "def plot_roc_curves(y_test, y_pred_logreg, y_pred_rf, y_pred_dt, y_pred_knn, y_pred_svm, y_pred_nb, y_pred_xgb,y_pred_mlp):\n",
        "    plt.figure(figsize=(8, 6))\n",
        "\n",
        "    # Calculate ROC curves for each model\n",
        "    fpr_logreg, tpr_logreg, _ = roc_curve(y_test, y_pred_logreg)\n",
        "    fpr_rf, tpr_rf, _ = roc_curve(y_test, y_pred_rf)\n",
        "    fpr_dt, tpr_dt, _ = roc_curve(y_test, y_pred_dt)\n",
        "    fpr_knn, tpr_knn, _ = roc_curve(y_test, y_pred_knn)\n",
        "    fpr_svm, tpr_svm, _ = roc_curve(y_test, y_pred_svm)\n",
        "    fpr_nb, tpr_nb, _ = roc_curve(y_test, y_pred_nb)\n",
        "    fpr_xgb, tpr_xgb, _ = roc_curve(y_test, y_pred_xgb)\n",
        "    fpr_mlp, tpr_mlp, _ = roc_curve(y_test, y_pred_mlp)\n",
        "\n",
        "    # Plot ROC curves\n",
        "    plt.plot(fpr_logreg, tpr_logreg, label=f'Logistic Regression (AUC = {auc_logreg:.2f})')\n",
        "    plt.plot(fpr_rf, tpr_rf, label=f'Random Forest (AUC = {auc_rf:.2f})')\n",
        "    plt.plot(fpr_dt, tpr_dt, label=f'Decision Tree (AUC = {auc_dt:.2f})')\n",
        "    plt.plot(fpr_knn, tpr_knn, label=f'K-Nearest Neighbors (AUC = {auc_knn:.2f})')\n",
        "    plt.plot(fpr_svm, tpr_svm, label=f'Support Vector Machine (AUC = {auc_svm:.2f})')\n",
        "    plt.plot(fpr_nb, tpr_nb, label=f'Naives Bayes (AUC = {auc_nb:.2f})')\n",
        "    plt.plot(fpr_xgb, tpr_xgb, label=f'XG Boost (AUC = {auc_xgb:.2f})')\n",
        "    plt.plot(fpr_mlp, tpr_mlp, label=f'MLP (AUC = {auc_mlp:.2f})')\n",
        "\n",
        "    # Plot random classifier\n",
        "    plt.plot([0, 1], [0, 1], linestyle='--', color='gray', label='Random Classifier')\n",
        "\n",
        "\n",
        "    # Format the plot\n",
        "    plt.xlabel('False Positive Rate')\n",
        "    plt.ylabel('True Positive Rate')\n",
        "    plt.title('ROC Curves for Heart Disease Prediction Models')\n",
        "    plt.legend()\n",
        "    plt.show()\n",
        "\n",
        "plot_roc_curves(y_test, y_pred_logreg, y_pred_rf, y_pred_dt, y_pred_knn, y_pred_svm, y_pred_nb, y_pred_xgb, y_pred_mlp)"
      ],
      "metadata": {
        "colab": {
          "base_uri": "https://localhost:8080/",
          "height": 564
        },
        "id": "0kB3cG_KPb_t",
        "outputId": "760dae99-02c5-4b30-9128-2682f313c749"
      },
      "execution_count": 49,
      "outputs": [
        {
          "output_type": "display_data",
          "data": {
            "text/plain": [
              "<Figure size 800x600 with 1 Axes>"
            ],
            "image/png": "[encoded data removed]"
          },
          "metadata": {}
        }
      ]
    },
    {
      "cell_type": "code",
      "source": [
        "def find_rates_for_thresholds(y_test, y_pred, threshold):\n",
        "    fpr_list = []\n",
        "    tpr_list = []\n",
        "    for threshold in thresholds:\n",
        "        y_pred_binary = (y_pred > threshold).astype(int)\n",
        "        tn, fp, fn, tp = confusion_matrix(y_test, y_pred_binary).ravel()\n",
        "        fpr = fp / (fp + tn)\n",
        "        tpr = tp / (tp + fn)\n",
        "        fpr_list.append(fpr)\n",
        "        tpr_list.append(tpr)\n",
        "    return fpr_list, tpr_list\n",
        "\n",
        "thresholds = np.arange(0, 1.1, 0.1)\n",
        "\n",
        "fpr_logreg, tpr_logreg = find_rates_for_thresholds(y_test, y_pred_logreg, thresholds)\n",
        "fpr_rf, tpr_rf = find_rates_for_thresholds(y_test, y_pred_rf, thresholds)\n",
        "fpr_dt, tpr_dt = find_rates_for_thresholds(y_test, y_pred_dt, thresholds)\n",
        "fpr_knn, tpr_knn = find_rates_for_thresholds(y_test, y_pred_knn, thresholds)\n",
        "fpr_svm, tpr_svm = find_rates_for_thresholds(y_test, y_pred_svm, thresholds)\n",
        "fpr_nb, tpr_nb = find_rates_for_thresholds(y_test, y_pred_nb, thresholds)\n",
        "fpr_xgb, tpr_xgb = find_rates_for_thresholds(y_test, y_pred_xgb, thresholds)\n",
        "fpr_mlp, tpr_mlp = find_rates_for_thresholds(y_test, y_pred_mlp, thresholds)\n",
        "\n",
        "\n",
        "summary_df = pd.DataFrame({\n",
        "    'Threshold': thresholds,\n",
        "    'FPR_logreg' : fpr_logreg,\n",
        "    'FPR_rf' : fpr_rf,\n",
        "    'FPR_dt' : fpr_dt,\n",
        "    'FPR_knn' : fpr_knn,\n",
        "    'FPR_svm' : fpr_svm,\n",
        "    'FPR_nb' : fpr_nb,\n",
        "    'FPR_xgb' : fpr_xgb,\n",
        "    'FPR_mlp' : fpr_mlp,\n",
        "    'TPR_logreg' : tpr_logreg,\n",
        "    'TPR_rf' : tpr_rf,\n",
        "    'TPR_dt' : tpr_dt,\n",
        "    'TPR_knn' : tpr_knn,\n",
        "    'TPR_svm' : tpr_svm,\n",
        "    'TPR_nb' : tpr_nb,\n",
        "    'TPR_xgb' : tpr_xgb,\n",
        "    'TPR_mlp' : tpr_mlp})\n",
        "\n",
        "print(summary_df)"
      ],
      "metadata": {
        "colab": {
          "base_uri": "https://localhost:8080/"
        },
        "id": "kDQQXVyxPpGm",
        "outputId": "6db01800-ff81-4b3d-ffd9-47973add702e"
      },
      "execution_count": 50,
      "outputs": [
        {
          "output_type": "stream",
          "name": "stdout",
          "text": [
            "    Threshold  FPR_logreg    FPR_rf    FPR_dt   FPR_knn   FPR_svm    FPR_nb  \\\n",
            "0         0.0    1.000000  0.989011  0.505495  0.593407  1.000000  1.000000   \n",
            "1         0.1    0.637363  0.604396  0.285714  0.593407  0.725275  0.439560   \n",
            "2         0.2    0.384615  0.384615  0.208791  0.406593  0.384615  0.307692   \n",
            "3         0.3    0.208791  0.263736  0.208791  0.263736  0.219780  0.219780   \n",
            "4         0.4    0.109890  0.197802  0.175824  0.263736  0.109890  0.142857   \n",
            "5         0.5    0.054945  0.109890  0.142857  0.142857  0.032967  0.087912   \n",
            "6         0.6    0.032967  0.054945  0.120879  0.098901  0.010989  0.054945   \n",
            "7         0.7    0.010989  0.010989  0.043956  0.098901  0.010989  0.032967   \n",
            "8         0.8    0.010989  0.010989  0.010989  0.032967  0.010989  0.021978   \n",
            "9         0.9    0.000000  0.000000  0.000000  0.000000  0.000000  0.010989   \n",
            "10        1.0    0.000000  0.000000  0.000000  0.000000  0.000000  0.000000   \n",
            "\n",
            "     FPR_xgb   FPR_mlp  TPR_logreg    TPR_rf    TPR_dt   TPR_knn   TPR_svm  \\\n",
            "0   1.000000  1.000000    1.000000  1.000000  0.886364  0.954545  1.000000   \n",
            "1   0.835165  0.857143    1.000000  0.931818  0.727273  0.954545  1.000000   \n",
            "2   0.516484  0.703297    0.840909  0.818182  0.613636  0.795455  0.886364   \n",
            "3   0.296703  0.461538    0.636364  0.727273  0.613636  0.659091  0.636364   \n",
            "4   0.153846  0.230769    0.500000  0.636364  0.568182  0.659091  0.500000   \n",
            "5   0.098901  0.076923    0.477273  0.477273  0.477273  0.477273  0.431818   \n",
            "6   0.043956  0.043956    0.363636  0.295455  0.431818  0.318182  0.363636   \n",
            "7   0.021978  0.010989    0.272727  0.181818  0.363636  0.318182  0.250000   \n",
            "8   0.010989  0.010989    0.136364  0.068182  0.318182  0.227273  0.113636   \n",
            "9   0.000000  0.010989    0.068182  0.068182  0.295455  0.022727  0.045455   \n",
            "10  0.000000  0.000000    0.000000  0.000000  0.000000  0.000000  0.000000   \n",
            "\n",
            "      TPR_nb   TPR_xgb   TPR_mlp  \n",
            "0   1.000000  1.000000  1.000000  \n",
            "1   0.931818  1.000000  0.977273  \n",
            "2   0.840909  0.931818  0.931818  \n",
            "3   0.659091  0.818182  0.704545  \n",
            "4   0.545455  0.704545  0.545455  \n",
            "5   0.454545  0.454545  0.409091  \n",
            "6   0.431818  0.272727  0.250000  \n",
            "7   0.363636  0.250000  0.113636  \n",
            "8   0.272727  0.090909  0.022727  \n",
            "9   0.181818  0.000000  0.000000  \n",
            "10  0.000000  0.000000  0.000000  \n"
          ]
        }
      ]
    },
    {
      "cell_type": "markdown",
      "source": [
        "# **The Best Model : Naives Bayes**"
      ],
      "metadata": {
        "id": "vVmHnTjmjlPs"
      }
    },
    {
      "cell_type": "code",
      "source": [
        "import pickle\n",
        "# Menyimpan model terbaik dengan pickle\n",
        "pklname = \"best_model_nb.pkl\"\n",
        "\n",
        "with open(pklname, 'wb') as file:\n",
        "    pickle.dump(fit_clf_nb, file)"
      ],
      "metadata": {
        "id": "sxESYcybg9pG"
      },
      "execution_count": 65,
      "outputs": []
    }
  ]
}